{
 "cells": [
  {
   "cell_type": "code",
   "execution_count": null,
   "metadata": {},
   "outputs": [],
   "source": [
    "#Librerias:\n",
    "\n",
    "from bs4 import BeautifulSoup\n",
    "import requests\n",
    "from deep_translator import GoogleTranslator\n",
    "from selenium.webdriver.common.by import By\n",
    "from selenium.webdriver.common.action_chains import ActionChains\n",
    "from selenium import webdriver\n",
    "from selenium.webdriver.chrome.options import Options\n",
    "import time\n",
    "import os"
   ]
  },
  {
   "cell_type": "code",
   "execution_count": null,
   "metadata": {},
   "outputs": [],
   "source": [
    "#Traer la página on bs4 para extraer los enlaces:\n",
    "\n",
    "origin = 'https://www.classcentral.com/'\n",
    "headers = {'User-Agent': 'Mozilla/5.0 (Windows NT 10.0; Win64; x64) AppleWebKit/537.36 (KHTML, like Gecko) Chrome/58.0.3029.110 Safari/537.36'}\n",
    "response = requests.get(origin, headers=headers)\n",
    "soup = BeautifulSoup(response.text, 'html.parser')\n",
    "\n",
    "## Se buscan los enlaces\n",
    "url_original = []\n",
    "for link in soup.body.find_all(\"a\"):\n",
    "    enlace = link.get(\"href\")\n",
    "    if enlace is not None:\n",
    "      url_original.append(enlace)"
   ]
  },
  {
   "cell_type": "code",
   "execution_count": null,
   "metadata": {},
   "outputs": [],
   "source": [
    "len(url_original)"
   ]
  },
  {
   "cell_type": "code",
   "execution_count": null,
   "metadata": {},
   "outputs": [],
   "source": [
    "#Se organizan los enlaces\n",
    "i = 0\n",
    "url_todos = []\n",
    "for enlace in url_original:\n",
    "  if enlace.startswith(\"/\"):\n",
    "    nueva_url = \"https://www.classcentral.com\" + enlace\n",
    "    url_todos.append(nueva_url)\n",
    "  i+=1"
   ]
  },
  {
   "cell_type": "code",
   "execution_count": null,
   "metadata": {},
   "outputs": [],
   "source": [
    "len(url_todos)"
   ]
  },
  {
   "cell_type": "code",
   "execution_count": null,
   "metadata": {},
   "outputs": [],
   "source": [
    "#Se toman los enlaces unicos\n",
    "url_unique = []\n",
    "for i in url_todos:\n",
    "  if i in url_unique:\n",
    "    continue\n",
    "  else:\n",
    "    url_unique.append(i)"
   ]
  },
  {
   "cell_type": "code",
   "execution_count": null,
   "metadata": {},
   "outputs": [],
   "source": [
    "#Se crea diccionario para facilitar la busqueda del enlace y a qué corresponde\n",
    "enlaces = {}\n",
    "for enlace in url_unique:\n",
    "  valor = enlace\n",
    "  dic = enlace.replace(\"https://www.classcentral.com/\", \"\")\n",
    "  if dic == '':\n",
    "    dic = \"classcentral\"\n",
    "    enlaces[dic] = enlace\n",
    "  else:\n",
    "    enlaces[dic] = enlace"
   ]
  },
  {
   "cell_type": "code",
   "execution_count": null,
   "metadata": {},
   "outputs": [],
   "source": [
    "enlaces"
   ]
  },
  {
   "cell_type": "code",
   "execution_count": null,
   "metadata": {},
   "outputs": [],
   "source": [
    "\"\"\"for i in enlaces:\n",
    "    if 'https://www.classcentral.com/cdn-cgi/l/email-protection#bc83cfc9ded6d9dfc8819addd1cc87ded3d8c581998e8cd4c8c8cccf998ffd998efa998efacbcbcb92dfd0ddcfcfdfd9d2c8ceddd092dfd3d1998efa' == enlaces[i]:\n",
    "        enlaces.pop(i)\"\"\""
   ]
  },
  {
   "cell_type": "code",
   "execution_count": null,
   "metadata": {},
   "outputs": [],
   "source": [
    "enlaces2 = {}\n",
    "for enlace in url_unique:\n",
    "  dic = enlace.replace(\"https://www.classcentral.com/\", \"\")\n",
    "  if dic == '':\n",
    "    dic = \"classcentral\"\n",
    "    enlaces2[dic.replace(\"/\",\"_\")] = enlace\n",
    "  else:\n",
    "    enlaces2[dic.replace(\"/\",\"_\")] = enlace"
   ]
  },
  {
   "cell_type": "code",
   "execution_count": null,
   "metadata": {},
   "outputs": [],
   "source": [
    "dic3 = {}\n",
    "for enlace in url_original:\n",
    "  value = enlace\n",
    "  if enlace.startswith(\"/\"):\n",
    "      enlace = enlace.replace(\"/\",\"\")\n",
    "  dic = enlace.replace(\"https://www.classcentral.com/\", \"\")\n",
    "  \n",
    "  if dic == '':\n",
    "    dic = \"classcentral.html\"\n",
    "    dic3[dic.replace(\"/\",\"_\")] = value\n",
    "  else:\n",
    "    dic = dic + \".html\"\n",
    "    dic3[dic.replace(\"/\",\"_\")] = value"
   ]
  },
  {
   "cell_type": "code",
   "execution_count": null,
   "metadata": {},
   "outputs": [],
   "source": [
    "#Traducir y descargar todos los html:\n",
    "j = 0\n",
    "driver = webdriver.Chrome()\n",
    "try:\n",
    "  for nombre in enlaces2:\n",
    "      name = nombre + \".html\"\n",
    "      for i in enlaces:\n",
    "        driver.get(enlaces[i])\n",
    "        time.sleep(2)\n",
    "        driver.execute_script(\"window.scrollTo(0, document.body.scrollHeight);\")\n",
    "\n",
    "        ## Copiar el código fuente de la página\n",
    "        html = driver.page_source\n",
    "        \n",
    "        #Transformar para capturar datos del html\n",
    "        soup = BeautifulSoup(html, 'html.parser')\n",
    "\n",
    "        traductor = GoogleTranslator(source='en', target='hi')\n",
    "        trans = {}\n",
    "        trans_dir = {}\n",
    "\n",
    "        #Obtener texto traducido\n",
    "        for child in soup.stripped_strings:\n",
    "          if len(child) > 5000:\n",
    "            continue\n",
    "          else:\n",
    "            if child == 'Copy link':\n",
    "              continue\n",
    "            else:\n",
    "              traduccion = (traductor.translate(child))\n",
    "              trans[str(child)]=str(traduccion)\n",
    "\n",
    "        #Valores unicos para traducir      \n",
    "        texto = list(soup.stripped_strings)\n",
    "        texto2 = []\n",
    "        for palabra in texto:\n",
    "            if palabra in texto2:\n",
    "                continue\n",
    "            else:\n",
    "                texto2.append(palabra)\n",
    "        #traduccion de la pagina\n",
    "        for l in range (len(texto2)):\n",
    "            for texto in soup.find_all(string=True):\n",
    "              if texto.parent.name != 'style' and texto.parent.name != 'script':\n",
    "                if texto2[l] in trans.keys():\n",
    "                    nuevo_texto = texto.replace(texto2[l], trans[texto2[l]])\n",
    "                    texto.replace_with(nuevo_texto)\n",
    "\n",
    "        #Cambiar enlaces:\n",
    "        links = soup.body.find_all(\"a\")\n",
    "\n",
    "        for s in dic3:\n",
    "          for link in links:\n",
    "            a = link.get('href')\n",
    "            if a == dic3[s]:\n",
    "              link['href'] = s\n",
    "          \n",
    "\n",
    "        #descargar archivo traducido:\n",
    "        mensaje = str(soup)\n",
    "        \n",
    "\n",
    "        archivo = open(name, \"w\", encoding=\"utf-8\")\n",
    "        archivo.write(mensaje)\n",
    "        archivo.close()\n",
    "        j+=1\n",
    "except NameError:\n",
    "    print(name, NameError)\n",
    "\n",
    "driver.close()"
   ]
  },
  {
   "cell_type": "code",
   "execution_count": null,
   "metadata": {},
   "outputs": [],
   "source": [
    "\"\"\"        links = soup.body.find_all(\"a\")     \n",
    "        for llave in enlaces:\n",
    "          for link in links:\n",
    "            if links[link] == enlaces[llave]:\n",
    "              new = llave + \".html\"\n",
    "              links['link'] = new\"\"\""
   ]
  },
  {
   "cell_type": "code",
   "execution_count": null,
   "metadata": {},
   "outputs": [],
   "source": [
    "\"\"\"links = soup.body.find_all(\"a\")\n",
    "\n",
    "for i in url_original:\n",
    "    for link in links:\n",
    "        a = link.get('href')\n",
    "        if a == i:\n",
    "            for s in dic3:\n",
    "                if i == dic3[s]:\n",
    "                    print(a)\"\"\""
   ]
  },
  {
   "cell_type": "code",
   "execution_count": null,
   "metadata": {},
   "outputs": [],
   "source": [
    "\"\"\"links = soup.body.find_all(\"a\")\n",
    "\n",
    "for s in dic3:\n",
    "    for link in links:\n",
    "        a = link.get('href')\n",
    "        if a == dic3[s]:\n",
    "            link['href'] = s\"\"\""
   ]
  }
 ],
 "metadata": {
  "kernelspec": {
   "display_name": "Python 3",
   "language": "python",
   "name": "python3"
  },
  "language_info": {
   "codemirror_mode": {
    "name": "ipython",
    "version": 3
   },
   "file_extension": ".py",
   "mimetype": "text/x-python",
   "name": "python",
   "nbconvert_exporter": "python",
   "pygments_lexer": "ipython3",
   "version": "3.10.10"
  },
  "orig_nbformat": 4
 },
 "nbformat": 4,
 "nbformat_minor": 2
}
